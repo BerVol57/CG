{
 "cells": [
  {
   "cell_type": "markdown",
   "id": "e2000c36-db81-4fdf-90a7-ca935ddd2908",
   "metadata": {},
   "source": [
    "<h2 align=\"center\">Лабораторна робота №3</h2>\n",
    "<p style=\"margin-left: 500px\">Роботу виконав студент з групи ФІ-21, Беркута Володимир</p>\n",
    "<p style=\"margin-left: 50px\"><i><b>Тема роботи:</b></i> \"Побудова фракталів з використанням L-систем\"</br>\n",
    "<i><b>Мета роботи:</b></i> опанувати основні принципи побудови фрактальних структур з використанням L-систем. Навчитись будувати складні фрактальні об'єкти на основі граматик загалом, а також розробляти відповідні програмні забезпечення для будови різних фрактальних об'єктів на основі L-систем.</p>"
   ]
  },
  {
   "cell_type": "markdown",
   "id": "b8dcf81f-381b-4f8e-92da-e8543b9fe2d3",
   "metadata": {},
   "source": [
    "<h2 align=\"center\">Завдання до лабораторної роботи</h2>\n",
    "<ol>\n",
    "    <li>Ознайомитись з теоретичними відомостями до лабораторної роботи щодо L-систем та методів їх побудови.</li>\n",
    "    <li>Ознайомитись з фракталами, які запропоновані для побудови з використанням L-систем.</li>\n",
    "    <li>Обрати 8 будь-яких із запропонованих фракталів та реалізувати їх (написати відповідну програму). Врахувати те, що для побудови фрактальної кривої використовується змінна F та символи \"+\" і \"-\". Інші щмінні у даних фракталах використовуються для побудови співвідношень, але не для самої візуалізації.</li>\n",
    "    <li>Спробувати змінити кут &theta; (angle) при побудові цих об'ктів. Отримати новий фрактальний об'єкт.</li>\n",
    "    <li>Модифікувати програму з пунктів 3 і 4 даних завдань для побудови фракталів з кутом &theta;<sub>min</sub> &#8804; &theta; &#8804; &theta;<sub>max</sub>. Зробити відображення у вигляді плавного переходу для вказаного діапазону &theta; ∈ [&theta;<sub>min</sub> ; &theta;<sub>max</sub>].</li>\n",
    "    <li>Сформувати звіт з лабораторної роботу у форматі PDF з отриманими результатами, надіслати його до класруму.</li>\n",
    "    <li>Показати практичні результати викладачі і захистити роботу.</li>"
   ]
  },
  {
   "cell_type": "markdown",
   "id": "9c57c954-5555-461c-8b23-e85bd45d4866",
   "metadata": {},
   "source": [
    "<h2 align=\"center\">Виконання лабораторної роботи</h2>"
   ]
  },
  {
   "cell_type": "markdown",
   "id": "c61d1cd6-06cf-4389-98ab-d3d90e0a5858",
   "metadata": {},
   "source": [
    "<p>text<sub>text</sub>&#8804;</p>"
   ]
  },
  {
   "cell_type": "code",
   "execution_count": 1,
   "id": "24ab9758-a9f5-4915-a887-0018366d800f",
   "metadata": {},
   "outputs": [],
   "source": [
    "def L_build(axiom: str, dict_s: dict, iteration: int) -> str:\n",
    "    if_in = dict()\n",
    "    for i in range(iteration):\n",
    "        k = 0\n",
    "        while k<len(axiom):\n",
    "            if axiom[k] in dict_s.keys():\n",
    "                j = axiom[k]\n",
    "                axiom = axiom[:k]+dict_s[j]+axiom[k+1:] # Розбиваємо рядок на дві частини і вставляємо правило заміни символу\n",
    "                k += len(dict_s[j]) # Збільшуємо лічильник на довжину правила, що було вставлене\n",
    "            k+=1\n",
    "                    \n",
    "    #print(axiom)\n",
    "    return axiom\n",
    "\n",
    "# test = L_build(\"F++F++F\", {\"F\": \"F-F++F-F\", \"Y\": \"-FX-Y\"}, 5)\n",
    "test = L_build(\"FX\", {\"X\": \"X+YF+\", \"Y\": \"-FX-Y\"}, 8)"
   ]
  },
  {
   "cell_type": "code",
   "execution_count": 15,
   "id": "c266c9a2-3f06-4bb8-b4c9-735e34d5084f",
   "metadata": {
    "editable": true,
    "slideshow": {
     "slide_type": ""
    },
    "tags": []
   },
   "outputs": [],
   "source": [
    "from plotly.subplots import make_subplots\n",
    "import plotly.graph_objects as go\n",
    "import matplotlib.pyplot as plt\n",
    "import ipywidgets as widgets\n",
    "import numpy as np\n",
    "\n",
    "L_systems = {\"Dragon curve\": [\"FX\", {\"X\": \"X+YF+\", \"Y\": \"-FX-Y\"}], # 90\n",
    "             \"Gosper curve\": [\"XF\", {\"X\": \"X+YF++YF-FX--FXFX-YF+\", \"Y\": \"-FX+YFYF++YF+FX--FX-Y\"}], # 60\n",
    "             \"Krishna bracelet\": [\"-X--X\", {\"X\": \"XFX--XFX\"}], # 45\n",
    "             \"Lévy C curve\": [\"F\", {\"F\": \"-F++F-\"}], # 45\n",
    "             \"Fractal rings\": [\"F+F+F+F\", {\"F\": \"FF+F+F+F+F+F-F\"}], # 90\n",
    "             \"Fractal snowflake\": [\"F++F++F++F++F\", {\"F\": \"F++F++F+++++F-F++F\"}], # 36\n",
    "             \"Fractal cross 2\": [\"F+F+F+F\", {\"F\": \"F+F-F+F+F\"}], # 90\n",
    "             \"Sierpinski's arrowhead\": [\"YF\", {\"X\": \"YF+XF+Y\", \"Y\": \"XF-YF-X\"}]} # 60\n",
    "features=list(L_systems.keys())\n",
    "\n",
    "\n",
    "# Матриця повороту\n",
    "def mat_turn(angle):\n",
    "    angle = angle/180 * np.pi\n",
    "    return np.array([[np.cos(angle), np.sin(angle)], \n",
    "                     [-np.sin(angle), np.cos(angle)]])\n",
    "\n",
    "\n",
    "# Функція обрахунку точок L-системи\n",
    "def plot_lsym(axiom, angle=90):\n",
    "    \n",
    "    phi = 0 # Тепершній кут повороту умовної черепашки\n",
    "    l = 5 # Довжина кроку умовної черепашки\n",
    "    radius = np.array([[0, 0], [l, 0]]) # Умовний радіус-черепашка\n",
    "    points = np.array([[0, 0]]) # Початкова точка\n",
    "    \n",
    "    for i in axiom:\n",
    "        match i:\n",
    "            case \"F\":\n",
    "                points = np.append(points, [points[-1]+np.dot(mat_turn(phi), radius)[::-1, 0]], axis=0) # Додаємо до масиву координат останні координати умовного радіуса повернутого на нинішній кут(для повороту використовуємо матрицю повороту)\n",
    "            case \"+\":\n",
    "                phi += angle\n",
    "            case \"-\":\n",
    "                phi -= angle\n",
    "            case _:\n",
    "                pass\n",
    "    \n",
    "    # plt.plot(points[..., 0], points[..., 1])\n",
    "    return points[..., 0], points[..., 1]\n"
   ]
  },
  {
   "cell_type": "code",
   "execution_count": 16,
   "id": "c7495fef-e8ac-4494-b594-2ab1aa79d8d6",
   "metadata": {},
   "outputs": [
    {
     "data": {
      "application/vnd.jupyter.widget-view+json": {
       "model_id": "2b3208b0ac564be6aab8d597d3906a7d",
       "version_major": 2,
       "version_minor": 0
      },
      "text/plain": [
       "HBox(children=(FigureWidget({\n",
       "    'data': [{'type': 'scatter',\n",
       "              'uid': 'cad20747-702c-4fc9-b17f-2…"
      ]
     },
     "metadata": {},
     "output_type": "display_data"
    }
   ],
   "source": [
    "# Ініціалізуємо слайдер для кута\n",
    "angle_slider_1 = widgets.FloatSlider(value=90, \n",
    "                                   min=0, \n",
    "                                   max=360, \n",
    "                                   step=.01, \n",
    "                                   description='Angle:', \n",
    "                                   disabled=False, \n",
    "                                   orientation='vertical', \n",
    "                                   layout=widgets.Layout(min_height='800px', margin=\"50px 0 0 0 \")\n",
    "                                  )\n",
    "\n",
    "# Функція оновлення графіку коли змінюється значення слайдера\n",
    "def update_fig_angle_1(change):\n",
    "    update_dots = plot_lsym(string_rule_1, angle_slider_1.value)\n",
    "    fig_1.data[0].x = update_dots[0]\n",
    "    fig_1.data[0].y = update_dots[1]\n",
    "\n",
    "angle_slider_1.observe(update_fig_angle_1, names='value')\n",
    "\n",
    "L_sym_name_1 = \"Dragon curve\"\n",
    "\n",
    "fig_1 = go.FigureWidget()\n",
    "fig_1.update_layout(title=dict(text=L_sym_name_1), \n",
    "                  width=900, \n",
    "                  height=900)\n",
    "\n",
    "axiom_1, rules_1=L_systems[L_sym_name_1]\n",
    "string_rule_1=L_build(axiom_1, rules_1, 10)\n",
    "init_1 = plot_lsym(string_rule_1) # Ініціалізація графіку\n",
    "\n",
    "fig_1.add_trace(go.Line(x=init_1[0], y=init_1[1]))\n",
    "\n",
    "display(widgets.HBox([fig_1, angle_slider_1])) # Бокс з графіком та слайдером\n",
    "# Далі аналогічні структури, не зробив функцію, бо вже було пізно, коли подумав ⁀⊙෴☉⁀"
   ]
  },
  {
   "cell_type": "code",
   "execution_count": 17,
   "id": "f685d034-5d67-44db-9350-ca82acb9da87",
   "metadata": {},
   "outputs": [
    {
     "data": {
      "application/vnd.jupyter.widget-view+json": {
       "model_id": "357e47997d784c3582c4b631b6469746",
       "version_major": 2,
       "version_minor": 0
      },
      "text/plain": [
       "HBox(children=(FigureWidget({\n",
       "    'data': [{'type': 'scatter',\n",
       "              'uid': 'd24a48cf-b605-4b97-a5ae-7…"
      ]
     },
     "metadata": {},
     "output_type": "display_data"
    }
   ],
   "source": [
    "angle_slider_2 = widgets.FloatSlider(value=60, \n",
    "                                   min=0, \n",
    "                                   max=360, \n",
    "                                   step=.01, \n",
    "                                   description='Angle:', \n",
    "                                   disabled=False, \n",
    "                                   orientation='vertical', \n",
    "                                   layout=widgets.Layout(min_height='800px', margin=\"50px 0 0 0 \")\n",
    "                                  )\n",
    "\n",
    "def update_fig_angle_2(change):\n",
    "    update_dots = plot_lsym(string_rule_2, angle_slider_2.value)\n",
    "    fig_2.data[0].x = update_dots[0]\n",
    "    fig_2.data[0].y = update_dots[1]\n",
    "\n",
    "angle_slider_2.observe(update_fig_angle_2, names='value')\n",
    "\n",
    "L_sym_name_2 = \"Gosper curve\"\n",
    "\n",
    "fig_2 = go.FigureWidget()\n",
    "fig_2.update_layout(title=dict(text=L_sym_name_2), \n",
    "                  width=900, \n",
    "                  height=900)\n",
    "axiom_2, rules_2=L_systems[L_sym_name_2]\n",
    "string_rule_2=L_build(axiom_2, rules_2, 4)\n",
    "init_2 = plot_lsym(string_rule_2, 60)\n",
    "\n",
    "fig_2.add_trace(go.Line(x=init_2[0], y=init_2[1]))\n",
    "\n",
    "display(widgets.HBox([fig_2, angle_slider_2]))"
   ]
  },
  {
   "cell_type": "code",
   "execution_count": 18,
   "id": "2da39907-3f25-4b66-a4e6-4f9f7d626bcf",
   "metadata": {},
   "outputs": [
    {
     "data": {
      "application/vnd.jupyter.widget-view+json": {
       "model_id": "3c351d37e7c84356b45c28ff4770f668",
       "version_major": 2,
       "version_minor": 0
      },
      "text/plain": [
       "HBox(children=(FigureWidget({\n",
       "    'data': [{'type': 'scatter',\n",
       "              'uid': '99556f0f-7337-42c2-b835-a…"
      ]
     },
     "metadata": {},
     "output_type": "display_data"
    }
   ],
   "source": [
    "angle_slider_3 = widgets.FloatSlider(value=45, \n",
    "                                     min=0, \n",
    "                                     max=360, \n",
    "                                     step=.01, \n",
    "                                     description='Angle:', \n",
    "                                     disabled=False, \n",
    "                                     orientation='vertical', \n",
    "                                     layout=widgets.Layout(min_height='800px', margin=\"50px 0 0 0 \")\n",
    "                                  )\n",
    "\n",
    "def update_fig_angle_3(change):\n",
    "    update_dots = plot_lsym(string_rule_3, angle_slider_3.value)\n",
    "    fig_3.data[0].x = update_dots[0]\n",
    "    fig_3.data[0].y = update_dots[1]\n",
    "\n",
    "angle_slider_3.observe(update_fig_angle_3, names='value')\n",
    "\n",
    "L_sym_name_3 = \"Krishna bracelet\"\n",
    "\n",
    "fig_3 = go.FigureWidget()\n",
    "fig_3.update_layout(title=dict(text=L_sym_name_3), \n",
    "                  width=900, \n",
    "                  height=900)\n",
    "axiom_3, rules_3=L_systems[L_sym_name_3]\n",
    "string_rule_3=L_build(axiom_3, rules_3, 4)\n",
    "init_3 = plot_lsym(string_rule_3, 45)\n",
    "\n",
    "fig_3.add_trace(go.Line(x=init_3[0], y=init_3[1]))\n",
    "\n",
    "display(widgets.HBox([fig_3, angle_slider_3]))"
   ]
  },
  {
   "cell_type": "code",
   "execution_count": 19,
   "id": "e13bb02a-af3f-4a15-8285-b6b3a8acdbb7",
   "metadata": {},
   "outputs": [
    {
     "data": {
      "application/vnd.jupyter.widget-view+json": {
       "model_id": "bcd72dd037aa430c91c519ce23029cb9",
       "version_major": 2,
       "version_minor": 0
      },
      "text/plain": [
       "HBox(children=(FigureWidget({\n",
       "    'data': [{'type': 'scatter',\n",
       "              'uid': 'ad50844d-46e7-461d-acc9-6…"
      ]
     },
     "metadata": {},
     "output_type": "display_data"
    }
   ],
   "source": [
    "angle_slider_4 = widgets.FloatSlider(value=45, \n",
    "                                     min=0, \n",
    "                                     max=360, \n",
    "                                     step=.01, \n",
    "                                     description='Angle:', \n",
    "                                     disabled=False, \n",
    "                                     orientation='vertical', \n",
    "                                     layout=widgets.Layout(min_height='800px', margin=\"50px 0 0 0 \")\n",
    "                                  )\n",
    "\n",
    "def update_fig_angle_4(change):\n",
    "    update_dots = plot_lsym(string_rule_4, angle_slider_4.value)\n",
    "    fig_4.data[0].x = update_dots[0]\n",
    "    fig_4.data[0].y = update_dots[1]\n",
    "\n",
    "angle_slider_4.observe(update_fig_angle_4, names='value')\n",
    "\n",
    "L_sym_name_4 = \"Lévy C curve\"\n",
    "\n",
    "fig_4 = go.FigureWidget()\n",
    "fig_4.update_layout(title=dict(text=L_sym_name_4), \n",
    "                  width=900, \n",
    "                  height=900)\n",
    "axiom_4, rules_4=L_systems[L_sym_name_4]\n",
    "string_rule_4=L_build(axiom_4, rules_4, 12)\n",
    "init_4 = plot_lsym(string_rule_4, 45)\n",
    "\n",
    "fig_4.add_trace(go.Line(x=init_4[0], y=init_4[1]))\n",
    "\n",
    "display(widgets.HBox([fig_4, angle_slider_4]))"
   ]
  },
  {
   "cell_type": "code",
   "execution_count": 20,
   "id": "1d15381c-429f-4399-9d18-c619fc621291",
   "metadata": {},
   "outputs": [
    {
     "data": {
      "application/vnd.jupyter.widget-view+json": {
       "model_id": "a6f47dbb723346159eb2cc3afd479511",
       "version_major": 2,
       "version_minor": 0
      },
      "text/plain": [
       "HBox(children=(FigureWidget({\n",
       "    'data': [{'type': 'scatter',\n",
       "              'uid': '861771bd-2902-4a1d-9a2f-c…"
      ]
     },
     "metadata": {},
     "output_type": "display_data"
    }
   ],
   "source": [
    "angle_slider_5 = widgets.FloatSlider(value=90, \n",
    "                                     min=0, \n",
    "                                     max=90, \n",
    "                                     step=.0001, \n",
    "                                     description='Angle:', \n",
    "                                     disabled=False, \n",
    "                                     orientation='vertical', \n",
    "                                     layout=widgets.Layout(min_height='800px', margin=\"50px 0 0 0 \")\n",
    "                                  )\n",
    "\n",
    "def update_fig_angle_5(change):\n",
    "    update_dots = plot_lsym(string_rule_5, angle_slider_5.value)\n",
    "    fig_5.data[0].x = update_dots[0]\n",
    "    fig_5.data[0].y = update_dots[1]\n",
    "\n",
    "angle_slider_5.observe(update_fig_angle_5, names='value')\n",
    "\n",
    "L_sym_name_5 = \"Fractal rings\"\n",
    "\n",
    "fig_5 = go.FigureWidget()\n",
    "fig_5.update_layout(title=dict(text=L_sym_name_5), \n",
    "                  width=900, \n",
    "                  height=900)\n",
    "axiom_5, rules_5=L_systems[L_sym_name_5]\n",
    "string_rule_5=L_build(axiom_5, rules_5, 4)\n",
    "init_5 = plot_lsym(string_rule_5, 90)\n",
    "\n",
    "fig_5.add_trace(go.Line(x=init_5[0], y=init_5[1]))\n",
    "\n",
    "display(widgets.HBox([fig_5, angle_slider_5]))"
   ]
  },
  {
   "cell_type": "code",
   "execution_count": 21,
   "id": "0f8fca70-f11f-4500-979e-f9151e66e9d1",
   "metadata": {},
   "outputs": [
    {
     "data": {
      "application/vnd.jupyter.widget-view+json": {
       "model_id": "3ff9f9e1bf944e2a9edaff146e4a19d0",
       "version_major": 2,
       "version_minor": 0
      },
      "text/plain": [
       "HBox(children=(FigureWidget({\n",
       "    'data': [{'type': 'scatter',\n",
       "              'uid': '5208ede5-5758-41c2-83d0-c…"
      ]
     },
     "metadata": {},
     "output_type": "display_data"
    }
   ],
   "source": [
    "angle_slider_6 = widgets.FloatSlider(value=36, \n",
    "                                     min=0, \n",
    "                                     max=36, \n",
    "                                     step=.0001, \n",
    "                                     description='Angle:', \n",
    "                                     disabled=False, \n",
    "                                     orientation='vertical', \n",
    "                                     layout=widgets.Layout(min_height='800px', margin=\"50px 0 0 0 \")\n",
    "                                  )\n",
    "\n",
    "def update_fig_angle_6(change):\n",
    "    update_dots = plot_lsym(string_rule_6, angle_slider_6.value)\n",
    "    fig_6.data[0].x = update_dots[0]\n",
    "    fig_6.data[0].y = update_dots[1]\n",
    "\n",
    "angle_slider_6.observe(update_fig_angle_6, names='value')\n",
    "\n",
    "L_sym_name_6 = \"Fractal snowflake\"\n",
    "\n",
    "fig_6 = go.FigureWidget()\n",
    "fig_6.update_layout(title=dict(text=L_sym_name_6), \n",
    "                  width=900, \n",
    "                  height=900)\n",
    "axiom_6, rules_6=L_systems[L_sym_name_6]\n",
    "string_rule_6=L_build(axiom_6, rules_6, 4)\n",
    "init_6 = plot_lsym(string_rule_6, 36)\n",
    "\n",
    "fig_6.add_trace(go.Line(x=init_6[0], y=init_6[1]))\n",
    "\n",
    "display(widgets.HBox([fig_6, angle_slider_6]))"
   ]
  },
  {
   "cell_type": "code",
   "execution_count": 25,
   "id": "f8879a3d-a47b-4273-987a-2ae3f9af77b7",
   "metadata": {},
   "outputs": [
    {
     "data": {
      "application/vnd.jupyter.widget-view+json": {
       "model_id": "7dc0e9b6d53a43b9923d5c6c2d22f3ed",
       "version_major": 2,
       "version_minor": 0
      },
      "text/plain": [
       "HBox(children=(FigureWidget({\n",
       "    'data': [{'type': 'scatter',\n",
       "              'uid': '0cd672fd-9c7f-4460-b14c-2…"
      ]
     },
     "metadata": {},
     "output_type": "display_data"
    }
   ],
   "source": [
    "angle_slider_7 = widgets.FloatSlider(value=90, \n",
    "                                     min=0, \n",
    "                                     max=180, \n",
    "                                     step=.005, \n",
    "                                     description='Angle:', \n",
    "                                     disabled=False, \n",
    "                                     orientation='vertical', \n",
    "                                     layout=widgets.Layout(min_height='800px', margin=\"50px 0 0 0 \")\n",
    "                                  )\n",
    "\n",
    "def update_fig_angle_7(change):\n",
    "    update_dots = plot_lsym(string_rule_7, angle_slider_7.value)\n",
    "    fig_7.data[0].x = update_dots[0]\n",
    "    fig_7.data[0].y = update_dots[1]\n",
    "\n",
    "angle_slider_7.observe(update_fig_angle_7, names='value')\n",
    "\n",
    "L_sym_name_7 = \"Fractal cross 2\"\n",
    "\n",
    "fig_7 = go.FigureWidget()\n",
    "fig_7.update_layout(title=dict(text=L_sym_name_7), \n",
    "                  width=900, \n",
    "                  height=900)\n",
    "axiom_7, rules_7=L_systems[L_sym_name_7]\n",
    "string_rule_7=L_build(axiom_7, rules_7, 4)\n",
    "init_7 = plot_lsym(string_rule_7, 90)\n",
    "\n",
    "fig_7.add_trace(go.Line(x=init_7[0], y=init_7[1]))\n",
    "\n",
    "display(widgets.HBox([fig_7, angle_slider_7]))"
   ]
  },
  {
   "cell_type": "code",
   "execution_count": 29,
   "id": "882dca1a-f0f7-4d00-a1e2-d9821eac9623",
   "metadata": {},
   "outputs": [
    {
     "data": {
      "application/vnd.jupyter.widget-view+json": {
       "model_id": "59166582a8da48f5ab637714358f0db5",
       "version_major": 2,
       "version_minor": 0
      },
      "text/plain": [
       "HBox(children=(FigureWidget({\n",
       "    'data': [{'type': 'scatter',\n",
       "              'uid': '84b5e0d0-f5f5-4a34-8afd-9…"
      ]
     },
     "metadata": {},
     "output_type": "display_data"
    }
   ],
   "source": [
    "angle_slider_8 = widgets.FloatSlider(value=60, \n",
    "                                     min=0, \n",
    "                                     max=360, \n",
    "                                     step=.01, \n",
    "                                     description='Angle:', \n",
    "                                     disabled=False, \n",
    "                                     orientation='vertical', \n",
    "                                     layout=widgets.Layout(min_height='800px', margin=\"50px 0 0 0 \")\n",
    "                                  )\n",
    "\n",
    "def update_fig_angle_8(change):\n",
    "    update_dots = plot_lsym(string_rule_8, angle_slider_8.value)\n",
    "    fig_8.data[0].x = update_dots[0]\n",
    "    fig_8.data[0].y = update_dots[1]\n",
    "\n",
    "angle_slider_8.observe(update_fig_angle_8, names='value')\n",
    "\n",
    "L_sym_name_8 = \"Sierpinski's arrowhead\"\n",
    "\n",
    "fig_8 = go.FigureWidget()\n",
    "fig_8.update_layout(title=dict(text=L_sym_name_8), \n",
    "                  width=900, \n",
    "                  height=900)\n",
    "axiom_8, rules_8=L_systems[L_sym_name_8]\n",
    "string_rule_8=L_build(axiom_8, rules_8, 6)\n",
    "init_8 = plot_lsym(string_rule_8, 60)\n",
    "\n",
    "fig_8.add_trace(go.Line(x=init_8[0], y=init_8[1]))\n",
    "\n",
    "display(widgets.HBox([fig_8, angle_slider_8]))"
   ]
  },
  {
   "cell_type": "code",
   "execution_count": null,
   "id": "ebfbf981-fe4a-435d-9257-0924d00cf7e1",
   "metadata": {},
   "outputs": [],
   "source": []
  }
 ],
 "metadata": {
  "kernelspec": {
   "display_name": "Python 3 (ipykernel)",
   "language": "python",
   "name": "python3"
  },
  "language_info": {
   "codemirror_mode": {
    "name": "ipython",
    "version": 3
   },
   "file_extension": ".py",
   "mimetype": "text/x-python",
   "name": "python",
   "nbconvert_exporter": "python",
   "pygments_lexer": "ipython3",
   "version": "3.12.1"
  }
 },
 "nbformat": 4,
 "nbformat_minor": 5
}
